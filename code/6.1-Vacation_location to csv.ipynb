{
 "cells": [
  {
   "cell_type": "code",
   "execution_count": null,
   "metadata": {
    "collapsed": false
   },
   "outputs": [
    {
     "name": "stdout",
     "output_type": "stream",
     "text": [
      "[-81.0204391, 29.21385]\n",
      "[-97.516974, 28.028317]\n",
      "[103.12416836, 3.72058427]\n",
      "[-83.04848769, 42.33312717]\n"
     ]
    }
   ],
   "source": [
    "# use the library called tweepy\n",
    "import json\n",
    "from tweepy import Stream\n",
    "from tweepy import OAuthHandler\n",
    "from tweepy.streaming import StreamListener\n",
    "\n",
    "#Enter Twitter API Key information\n",
    "consumer_key = '67HE5RIMUhTsbpt3oXhFq9DiP'\n",
    "consumer_secret = 'LtLv7toJoILSHDWO1kngQajbsubXp4o6U3jQiMUCt7jh5UlvhW'\n",
    "access_token = '3945428712-SPkU6GuOtSMeoO3znfeMDl0woutrlcnGdOXMgLa'\n",
    "access_secret = '7wQ7fDo9S1ZF25wCyrGlioJaMfqMMQwewEFfVaqzKqo1l'\n",
    "\n",
    "# make a csv file\n",
    "file = open(\"final.csv\", \"w\")\n",
    "file.write(\"X,Y\\n\")\n",
    "\n",
    "# make an empty list \n",
    "data_list = []\n",
    "count = 0\n",
    "\n",
    "# create a streamlistener which prints status text\n",
    "class listener(StreamListener):\n",
    "\n",
    "    def on_data(self, data):\n",
    "        global count\n",
    "\n",
    "        # limit the number of tweets you want to find\n",
    "        if count <= 2000:\n",
    "            json_data = json.loads(data)\n",
    "            \n",
    "            # get the location data\n",
    "            coords = json_data[\"coordinates\"] \n",
    "            if coords is not None:\n",
    "               print(coords[\"coordinates\"])\n",
    "            \n",
    "            # define longtitude & latitude data\n",
    "               lon = coords[\"coordinates\"][0]\n",
    "               lat = coords[\"coordinates\"][1]\n",
    "            \n",
    "            # add the data in a list\n",
    "               data_list.append(json_data)\n",
    "               file.write(str(lon) + \",\")\n",
    "               file.write(str(lat) + \"\\n\")\n",
    "\n",
    "               count += 1\n",
    "            return True\n",
    "        else:\n",
    "            file.close()\n",
    "            return False\n",
    "        \n",
    "    # take care of the errors if there are some\n",
    "    def on_error(self, status):\n",
    "        print(status)\n",
    "\n",
    "# create a stream        \n",
    "auth = OAuthHandler(consumer_key, consumer_secret)\n",
    "auth.set_access_token(access_token, access_secret)\n",
    "twitterStream = Stream(auth, listener())\n",
    "\n",
    "# start a stream by inserting what you want to search for\n",
    "twitterStream.filter(track=[\"final\"])\n"
   ]
  },
  {
   "cell_type": "code",
   "execution_count": null,
   "metadata": {
    "collapsed": true
   },
   "outputs": [],
   "source": []
  }
 ],
 "metadata": {
  "anaconda-cloud": {},
  "kernelspec": {
   "display_name": "Python [Root]",
   "language": "python",
   "name": "Python [Root]"
  },
  "language_info": {
   "codemirror_mode": {
    "name": "ipython",
    "version": 3
   },
   "file_extension": ".py",
   "mimetype": "text/x-python",
   "name": "python",
   "nbconvert_exporter": "python",
   "pygments_lexer": "ipython3",
   "version": "3.5.2"
  }
 },
 "nbformat": 4,
 "nbformat_minor": 0
}
